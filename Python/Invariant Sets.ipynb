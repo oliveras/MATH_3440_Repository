{
 "cells": [
  {
   "cell_type": "markdown",
   "metadata": {},
   "source": [
    "#Invariant Sets and Stable/Unstable Manifolds\n",
    "##Math 3910 - 01: Dynamical Systems\n",
    "\n",
    "###Seattle University, Katie Oliveras"
   ]
  },
  {
   "cell_type": "markdown",
   "metadata": {},
   "source": [
    "Given the map defined by \n",
    "\\begin{eqnarray*}\n",
    "x_{k+1} &=& \\frac{1}{2}x_k,\\\\ \n",
    "y_{k+1} &=& 2 y_k - 7x_k^2,\n",
    "\\end{eqnarray*}\n",
    "let's determing the following:\n",
    "\n",
    "1. What are the fixed points of the system?\n",
    "2. What is the stabilty of the fixed points?\n",
    "3. Can we determine the stable manifold of the system?\n",
    "4. Can we numerically show that the stable manifold is an invariant set?"
   ]
  },
  {
   "cell_type": "code",
   "execution_count": 1,
   "metadata": {
    "collapsed": false,
    "slideshow": {
     "slide_type": "fragment"
    }
   },
   "outputs": [
    {
     "name": "stdout",
     "output_type": "stream",
     "text": [
      "Populating the interactive namespace from numpy and matplotlib\n"
     ]
    }
   ],
   "source": [
    "%pylab inline \n",
    "from sympy import *\n",
    "init_printing() # This allows us to print the output in a pretty Math font!"
   ]
  },
  {
   "cell_type": "code",
   "execution_count": 2,
   "metadata": {
    "collapsed": true
   },
   "outputs": [],
   "source": [
    "from sympy.abc import x,y "
   ]
  },
  {
   "cell_type": "code",
   "execution_count": 3,
   "metadata": {
    "collapsed": false
   },
   "outputs": [],
   "source": [
    "f = 0.5*x;\n",
    "\n",
    "g = 2*y - 7*x**2;"
   ]
  },
  {
   "cell_type": "markdown",
   "metadata": {
    "slideshow": {
     "slide_type": "slide"
    }
   },
   "source": [
    "##Finding the fixed points\n",
    "Given the map defined by \n",
    "\\begin{eqnarray*}\n",
    "x_{k+1} &=& \\frac{1}{2}x_k,\\\\ \n",
    "y_{k+1} &=& 2 y_k - 7x_k^2,\n",
    "\\end{eqnarray*}\n",
    "we can determine all fixed points by solving $$x^* = f(x^*,y^*), \\qquad y^*= g(x^*,y^*).$$\n",
    "\n",
    "Recall that python solves systems of the form $$f(x^*,y^*)-x^*=0, \\qquad g(x^*,y^*)-y^*=0.$$ The command \n",
    "\n",
    "    fixedPoints = solve([f-x,g-y],[x,y])\n",
    "\n",
    "returns a list of ordered pairs corresponding to the fixed points of the system defined above."
   ]
  },
  {
   "cell_type": "code",
   "execution_count": 4,
   "metadata": {
    "collapsed": false
   },
   "outputs": [
    {
     "data": {
      "image/png": "[encoded data removed]",
      "text/latex": [
       "$$\\begin{bmatrix}\\begin{pmatrix}0.0, & 0.0\\end{pmatrix}\\end{bmatrix}$$"
      ],
      "text/plain": [
       "[(0.0, 0.0)]"
      ]
     },
     "execution_count": 4,
     "metadata": {},
     "output_type": "execute_result"
    }
   ],
   "source": [
    "fixedPoints = solve([f - x, g-y],[x,y])\n",
    "fixedPoints"
   ]
  },
  {
   "cell_type": "code",
   "execution_count": 5,
   "metadata": {
    "collapsed": false
   },
   "outputs": [
    {
     "data": {
      "image/png": "[encoded data removed]",
      "text/latex": [
       "$$\\left[\\begin{matrix}0.5 & 0\\\\0 & 2\\end{matrix}\\right]$$"
      ],
      "text/plain": [
       "⎡0.5  0⎤\n",
       "⎢      ⎥\n",
       "⎣ 0   2⎦"
      ]
     },
     "execution_count": 5,
     "metadata": {},
     "output_type": "execute_result"
    }
   ],
   "source": [
    "J = Matrix([[diff(f,x), diff(f,y)],[diff(g,x), diff(g,y)]]).subs(x,fixedPoints[0][0])\n",
    "J"
   ]
  },
  {
   "cell_type": "markdown",
   "metadata": {},
   "source": [
    "Something about calculating eigenvalues and eigenvectors"
   ]
  },
  {
   "cell_type": "code",
   "execution_count": 6,
   "metadata": {
    "collapsed": false
   },
   "outputs": [
    {
     "data": {
      "image/png": "[encoded data removed]",
      "text/latex": [
       "$$\\begin{bmatrix}\\begin{pmatrix}0.5, & 1, & \\begin{bmatrix}\\left[\\begin{matrix}1.0\\\\0\\end{matrix}\\right]\\end{bmatrix}\\end{pmatrix}, & \\begin{pmatrix}2.0, & 1, & \\begin{bmatrix}\\left[\\begin{matrix}0\\\\1.0\\end{matrix}\\right]\\end{bmatrix}\\end{pmatrix}\\end{bmatrix}$$"
      ],
      "text/plain": [
       "⎡⎛0.5, 1, ⎡⎡1.0⎤⎤⎞, ⎛2.0, 1, ⎡⎡ 0 ⎤⎤⎞⎤\n",
       "⎢⎜        ⎢⎢   ⎥⎥⎟  ⎜        ⎢⎢   ⎥⎥⎟⎥\n",
       "⎣⎝        ⎣⎣ 0 ⎦⎦⎠  ⎝        ⎣⎣1.0⎦⎦⎠⎦"
      ]
     },
     "execution_count": 6,
     "metadata": {},
     "output_type": "execute_result"
    }
   ],
   "source": [
    "J.eigenvects()"
   ]
  },
  {
   "cell_type": "markdown",
   "metadata": {},
   "source": [
    "Now, let's determine the stable manifold corresponding to stable eigenvalue of $1/2$.  "
   ]
  },
  {
   "cell_type": "markdown",
   "metadata": {},
   "source": [
    "##Calculating the Stable Manifold"
   ]
  },
  {
   "cell_type": "markdown",
   "metadata": {},
   "source": [
    "In order to determine the stable manifold, we are looking for a function $y = h(x)$ such that\n",
    "- The fixed point is on the stable manifold.  That is, $y^* = h(x^*)$.\n",
    "- The tangent vector to the stable manifold at the fixed point is the same as the stable eigenvector.  In this case, $$V^s = \\begin{bmatrix}1\\\\0\\end{bmatrix}$$ and so, $h'(x^*) = 0$.  \n",
    "- The stable manifold is the collection of all points such that $$\\left\\vert \\vec{f}^n(\\vec{x}) - \\vec{x}^*\\right\\vert \\to 0$$ as $n\\to\\infty$.\n",
    "\n",
    "In order to determine $h(x)$, we will need to use the equations for the map given by\n",
    "\n",
    "\\begin{eqnarray*}\n",
    "x_{k+1} &=& \\frac{1}{2}x_k,\\\\ \n",
    "y_{k+1} &=& 2 y_k - 7x_k^2,\n",
    "\\end{eqnarray*}\n",
    "\n",
    "where we will now plug in the fact that we want $y_k = h(x_k)$.  This implies that \n",
    "\n",
    "\\begin{eqnarray*}\n",
    "x_{k+1} &=& \\frac{1}{2}x_k,\\\\ \n",
    "h(x_{k+1}) &=& 2 h(x_k) - 7x_k^2.\n",
    "\\end{eqnarray*}\n",
    "\n",
    "Using the fact that $x_{k+1} = \\frac{1}{2}x_k$, we can replace $h(x_{k+1})$ with $h(\\frac{1}{2}x_k)$ by using the top equation in the system.  Thus, we now have the relationship \n",
    "\n",
    "$$h\\left(\\frac{1}{2}x_k\\right) = 2h(x_k) - 7x_k^2.$$"
   ]
  },
  {
   "cell_type": "markdown",
   "metadata": {},
   "source": [
    "Let's now assume that $h(x)$ has a Taylor Series expansion where \n",
    "\n",
    "$$h(x) = a_0 + a_1 x + a_2 x^2 + \\ldots$$\n",
    "\n",
    "Our goal will be to determine the coefficients $a_j$ for $j = 1, 2, \\ldots$\n",
    "\n",
    "In the next steps, I will show you how you can use SymPy to determine these coefficients."
   ]
  },
  {
   "cell_type": "markdown",
   "metadata": {},
   "source": [
    "###Setting up the series expansion for $h(x)$"
   ]
  },
  {
   "cell_type": "code",
   "execution_count": 10,
   "metadata": {
    "collapsed": false
   },
   "outputs": [
    {
     "data": {
      "image/png": "[encoded data removed]",
      "text/latex": [
       "$$a_{0} + a_{1} x + a_{2} x^{2} + a_{3} x^{3}$$"
      ],
      "text/plain": [
       "                2       3\n",
       "a₀ + a₁⋅x + a₂⋅x  + a₃⋅x "
      ]
     },
     "execution_count": 10,
     "metadata": {},
     "output_type": "execute_result"
    }
   ],
   "source": [
    "def h(x):\n",
    "    a = Matrix(symbols('a:4'))\n",
    "    xpowers = Matrix([x**n for n in range(len(a))])\n",
    "    return a.dot(xpowers)\n",
    "\n",
    "h(x)"
   ]
  },
  {
   "cell_type": "markdown",
   "metadata": {},
   "source": [
    "###Plugging in the series expansion to determine $h(x)$\n",
    "Now that we have defined the function $h(x)$, we can now evaluate separately the left and right hand sides of\n",
    "\n",
    "$$h\\left(\\frac{1}{2} x\\right) = 2h(x) - 7x^2.$$"
   ]
  },
  {
   "cell_type": "code",
   "execution_count": 11,
   "metadata": {
    "collapsed": true
   },
   "outputs": [],
   "source": [
    "lhs = h(x/2)\n",
    "rhs = 2*h(x) - 7*x**2"
   ]
  },
  {
   "cell_type": "markdown",
   "metadata": {},
   "source": [
    "Now, we need to just determine the coefficients of the various powers of $x$ from each side of the polynomial.  We can do this easily by \n",
    "1. Telling python that `lhs` and `rhs` are both polynomials in $x$ by using `Poly`\n",
    "2. using the `.all_coeffs()` command.\n",
    "\n",
    "It is important to be aware of how the `all_coeffs()` command works in python.  For example, if $p(x)$ is a polynomial of the form \n",
    "\n",
    "$$p(x) = 2x^4 + 3x^2 + x, $$ \n",
    "\n",
    "then calling `all_coeffs()` on $p(x)$ would return \n",
    "\n",
    "$$\\begin{bmatrix} 2, & 0, & 3,& 1, & 0\\end{bmatrix}.$$  \n",
    "\n",
    "The important thing to note is that the coefficients are listed according to their powers in $x$ in *descending order*."
   ]
  },
  {
   "cell_type": "code",
   "execution_count": 18,
   "metadata": {
    "collapsed": false
   },
   "outputs": [
    {
     "data": {
      "image/png": "[encoded data removed]",
      "text/latex": [
       "$$\\begin{bmatrix}\\frac{a_{3}}{8}, & \\frac{a_{2}}{4}, & \\frac{a_{1}}{2}, & a_{0}\\end{bmatrix}$$"
      ],
      "text/plain": [
       "⎡a₃  a₂  a₁    ⎤\n",
       "⎢──, ──, ──, a₀⎥\n",
       "⎣8   4   2     ⎦"
      ]
     },
     "execution_count": 18,
     "metadata": {},
     "output_type": "execute_result"
    }
   ],
   "source": [
    "Poly(lhs,x).all_coeffs()"
   ]
  },
  {
   "cell_type": "code",
   "execution_count": 19,
   "metadata": {
    "collapsed": false
   },
   "outputs": [
    {
     "data": {
      "image/png": "[encoded data removed]",
      "text/latex": [
       "$$\\begin{bmatrix}2 a_{3}, & 2 a_{2} - 7, & 2 a_{1}, & 2 a_{0}\\end{bmatrix}$$"
      ],
      "text/plain": [
       "[2⋅a₃, 2⋅a₂ - 7, 2⋅a₁, 2⋅a₀]"
      ]
     },
     "execution_count": 19,
     "metadata": {},
     "output_type": "execute_result"
    }
   ],
   "source": [
    "Poly(rhs,x).all_coeffs()"
   ]
  },
  {
   "cell_type": "markdown",
   "metadata": {},
   "source": [
    "###Solving for the coefficients\n",
    "\n",
    "So now, we get a series of equations that we can use to solve for the $a_j$'s.  \n",
    "\\begin{eqnarray*}\n",
    "x^0&:& \\qquad &&a_0 = a_0 &&\\\\\n",
    "x^1&:& &&\\frac{1}{2}a_1 = a_1, \\qquad &&a_1 = 0\\\\\n",
    "x^2&:& &&\\frac{1}{4}a_2 = 2a_2 - 7,  && a_2 = 4\\\\\n",
    "x^n&:& &&\\frac{1}{2^n}a_n = 2a_n, \\qquad &&a_n = 0\\\\\n",
    "\\end{eqnarray*}\n",
    "\n",
    "Since we know that $(0,0)$ must be on the stable manifold, we knwo $h(0) = 0$ which gives that $a_0 = 0$.  Thus, we find \n",
    "\n",
    "$$h(x) = 4x^2.$$\n"
   ]
  },
  {
   "cell_type": "markdown",
   "metadata": {},
   "source": [
    "##Testing the invariance of the stable manifold"
   ]
  },
  {
   "cell_type": "code",
   "execution_count": 20,
   "metadata": {
    "collapsed": true
   },
   "outputs": [],
   "source": [
    "from pylab import *\n",
    "from numpy import *\n",
    "\n",
    "%matplotlib inline"
   ]
  },
  {
   "cell_type": "code",
   "execution_count": 21,
   "metadata": {
    "collapsed": false
   },
   "outputs": [],
   "source": [
    "def f(x,y):\n",
    "    return 0.5*x;\n",
    "def g(x,y):\n",
    "    return 2*y - 7*x**2;"
   ]
  },
  {
   "cell_type": "code",
   "execution_count": 22,
   "metadata": {
    "collapsed": false
   },
   "outputs": [
    {
     "data": {
      "text/plain": [
       "<matplotlib.legend.Legend at 0x8d75c88>"
      ]
     },
     "execution_count": 22,
     "metadata": {},
     "output_type": "execute_result"
    },
    {
     "data": {
      "image/png": "[encoded data removed]",
      "text/plain": [
       "<matplotlib.figure.Figure at 0x8d75cc0>"
      ]
     },
     "metadata": {},
     "output_type": "display_data"
    }
   ],
   "source": [
    "x = linspace(-1,1,100);\n",
    "y = 4*x**2;\n",
    "\n",
    "plot(x,y,'.')\n",
    "for k in range(1,8):\n",
    "    xn = f(x,y);\n",
    "    yn = g(x,y);\n",
    "    plot(xn,yn,'.')\n",
    "    x = xn; y = yn;\n",
    "legend(('k=0','k=1','k=2'),loc='lower right')\n"
   ]
  }
 ],
 "metadata": {
  "kernelspec": {
   "display_name": "Python 2",
   "language": "python",
   "name": "python2"
  },
  "language_info": {
   "codemirror_mode": {
    "name": "ipython",
    "version": 2
   },
   "file_extension": ".py",
   "mimetype": "text/x-python",
   "name": "python",
   "nbconvert_exporter": "python",
   "pygments_lexer": "ipython2",
   "version": "2.7.6"
  }
 },
 "nbformat": 4,
 "nbformat_minor": 0
}
