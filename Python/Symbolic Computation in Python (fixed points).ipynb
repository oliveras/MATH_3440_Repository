{
 "cells": [
  {
   "cell_type": "markdown",
   "metadata": {},
   "source": [
    "# Finding Fixed Points and Testing Stability\n",
    "## Math 3440 - 01: Nonlinear Systems and Modeling\n",
    "### Seattle University, Katie Oliveras"
   ]
  },
  {
   "cell_type": "markdown",
   "metadata": {},
   "source": [
    "In this notebook, we can start to understand a little bit about Python's symbolic capabilities in terms of helping us find fixed points of the following system:\n",
    "$$\\frac{dx}{dt} = f(x,y,a), \\qquad \\frac{dy}{dt}= g(x,y,b)$$\n",
    "\n",
    "where $$f(x,y,a) = x + 2y - ax^2,\\qquad g(x,y,b) = bx.$$\n",
    "\n",
    "To get started, we need to initialize Python."
   ]
  },
  {
   "cell_type": "code",
   "execution_count": 1,
   "metadata": {
    "collapsed": false
   },
   "outputs": [],
   "source": [
    "from sympy import *\n",
    "init_printing() # This allows us to print the output in a pretty Math font!"
   ]
  },
  {
   "cell_type": "markdown",
   "metadata": {},
   "source": [
    "## Initializing iPython Symbolic Variables\n",
    "In order to use SimPy (Python's symbolic solvers), we need to first declare our variables as symbolic.  We could declare them one at a time by using \n",
    "\n",
    "    x = Symbol(\"x\")\n",
    "    y = Symbol(\"y\")\n",
    "\n",
    "Instead, we could declare them all at once using \n",
    "\n",
    "    x, y, a, b = symbols('x, y, a, b')"
   ]
  },
  {
   "cell_type": "code",
   "execution_count": 13,
   "metadata": {
    "collapsed": false
   },
   "outputs": [],
   "source": [
    "x, y, a, b = symbols('x, y, a, b')"
   ]
  },
  {
   "cell_type": "markdown",
   "metadata": {},
   "source": [
    "## Defining the functions $f$ and $g$\n",
    "Now that we have defined the symbolic variables, let's now define the functions $f(x,y,a)$ and $g(x,y,b)$.  This is done just as you would expect.  Note that in order to calculate $x^2$, you have to use \n",
    "\n",
    "    x**2\n",
    "    \n",
    "In general, to calculate $x^n$, we would use \n",
    "\n",
    "    x**n"
   ]
  },
  {
   "cell_type": "code",
   "execution_count": 5,
   "metadata": {
    "collapsed": true
   },
   "outputs": [],
   "source": [
    "def f(x,y,a):\n",
    "    return x + 2*y - a*x**2;\n",
    "\n",
    "def g(x,y,b):\n",
    "    return b*x;"
   ]
  },
  {
   "cell_type": "markdown",
   "metadata": {},
   "source": [
    "## Finding Fixed Points\n",
    "In order to find fixed points, we must solve the system of equations\n",
    "\n",
    "$$0 = f(x^*, y^*, a), \\qquad 0 = g(x^*, y^*, b)$$ \n",
    "\n",
    "for $x^*$ and $y^*$.  \n",
    "\n",
    "SciPy solves systems of equations that are equal to zero.  Thus, instead of solving the above, we solve the system\n",
    "\n",
    "$$f(x^*, y^*, a) = 0, \\qquad g(x^*, y^*, b) = 0,$$\n",
    "\n",
    "for the variables $(x,y)$.  The following cell-block solves this system for $x$ and $y$:"
   ]
  },
  {
   "cell_type": "code",
   "execution_count": 14,
   "metadata": {
    "collapsed": false
   },
   "outputs": [
    {
     "data": {
      "image/png": "[encoded data removed]",
      "text/latex": [
       "$\\displaystyle \\left[ \\left( 0, \\  0\\right)\\right]$"
      ],
      "text/plain": [
       "[(0, 0)]"
      ]
     },
     "execution_count": 14,
     "metadata": {},
     "output_type": "execute_result"
    }
   ],
   "source": [
    "sols = solve([ f(x,y,a),g(x,y,b)],[x,y])\n",
    "sols"
   ]
  },
  {
   "cell_type": "markdown",
   "metadata": {},
   "source": [
    "Notice that the variable `sols` contains the fixed points.  For example, calling `sols[0]` returns the first fixed point calculated. \n",
    "\n",
    "*Note: python indexes starting at zero.  Thus, the first entry in an array is indexed by 0.*"
   ]
  },
  {
   "cell_type": "code",
   "execution_count": 15,
   "metadata": {
    "collapsed": false
   },
   "outputs": [
    {
     "data": {
      "image/png": "[encoded data removed]",
      "text/latex": [
       "$\\displaystyle \\left( 0, \\  0\\right)$"
      ],
      "text/plain": [
       "(0, 0)"
      ]
     },
     "execution_count": 15,
     "metadata": {},
     "output_type": "execute_result"
    }
   ],
   "source": [
    "sols[0]"
   ]
  },
  {
   "cell_type": "markdown",
   "metadata": {},
   "source": [
    "Now that we know what the solutions are, we can define the Jacobian which is given by \n",
    "\n",
    "$$J = \\begin{pmatrix}f_x & f_y\\\\g_x & g_y\\end{pmatrix}_{(x^*,y^*)}$$\n",
    "\n",
    "Notice that by adding `.subs(x,sols[0][0])` and `.subs(y,sols[0][1])` at the end of our matix, we are simply plugging in the $x$ and $y$ components of `sols[0]`."
   ]
  },
  {
   "cell_type": "code",
   "execution_count": 16,
   "metadata": {
    "collapsed": false
   },
   "outputs": [
    {
     "data": {
      "image/png": "[encoded data removed]",
      "text/latex": [
       "$\\displaystyle \\left[\\begin{matrix}1 & 2\\\\b & 0\\end{matrix}\\right]$"
      ],
      "text/plain": [
       "⎡1  2⎤\n",
       "⎢    ⎥\n",
       "⎣b  0⎦"
      ]
     },
     "execution_count": 16,
     "metadata": {},
     "output_type": "execute_result"
    }
   ],
   "source": [
    "J = Matrix([[diff(f(x,y,a),x), diff(f(x,y,a),y)],[diff(g(x,y,b),x), diff(g(x,y,b),y)]]).subs(x,sols[0][0]).subs(y,sols[0][1])\n",
    "J"
   ]
  },
  {
   "cell_type": "markdown",
   "metadata": {},
   "source": [
    "Finally, we can determine the eigenvalues associated with the Jacobian by calling `J.eigenvals()`.  The `:1` after each eigenvalue is telling you the multipliciy of that particular eigenvalue."
   ]
  },
  {
   "cell_type": "code",
   "execution_count": 17,
   "metadata": {
    "collapsed": false
   },
   "outputs": [
    {
     "data": {
      "image/png": "[encoded data removed]",
      "text/latex": [
       "$\\displaystyle \\left\\{ \\frac{1}{2} - \\frac{\\sqrt{8 b + 1}}{2} : 1, \\  \\frac{\\sqrt{8 b + 1}}{2} + \\frac{1}{2} : 1\\right\\}$"
      ],
      "text/plain": [
       "⎧      _________       _________       ⎫\n",
       "⎪1   ╲╱ 8⋅b + 1      ╲╱ 8⋅b + 1    1   ⎪\n",
       "⎨─ - ───────────: 1, ─────────── + ─: 1⎬\n",
       "⎪2        2               2        2   ⎪\n",
       "⎩                                      ⎭"
      ]
     },
     "execution_count": 17,
     "metadata": {},
     "output_type": "execute_result"
    }
   ],
   "source": [
    "J.eigenvals()"
   ]
  },
  {
   "cell_type": "markdown",
   "metadata": {
    "collapsed": true
   },
   "source": [
    "Now, if we want to determine the eigenvectors of the Jacobian, we simply call `J.eigenvects()`."
   ]
  },
  {
   "cell_type": "code",
   "execution_count": 10,
   "metadata": {
    "collapsed": false
   },
   "outputs": [
    {
     "data": {
      "image/png": "[encoded data removed]",
      "text/latex": [
       "$\\displaystyle \\left[ \\left( \\frac{1}{2} - \\frac{\\sqrt{8 b + 1}}{2}, \\  1, \\  \\left[ \\left[\\begin{matrix}\\frac{\\frac{1}{2} - \\frac{\\sqrt{8 b + 1}}{2}}{b}\\\\1\\end{matrix}\\right]\\right]\\right), \\  \\left( \\frac{\\sqrt{8 b + 1}}{2} + \\frac{1}{2}, \\  1, \\  \\left[ \\left[\\begin{matrix}\\frac{\\frac{\\sqrt{8 b + 1}}{2} + \\frac{1}{2}}{b}\\\\1\\end{matrix}\\right]\\right]\\right)\\right]$"
      ],
      "text/plain": [
       "⎡⎛                    ⎡⎡      _________⎤⎤⎞  ⎛                    ⎡⎡  _________\n",
       "⎢⎜                    ⎢⎢1   ╲╱ 8⋅b + 1 ⎥⎥⎟  ⎜                    ⎢⎢╲╱ 8⋅b + 1 \n",
       "⎢⎜      _________     ⎢⎢─ - ───────────⎥⎥⎟  ⎜  _________         ⎢⎢───────────\n",
       "⎢⎜1   ╲╱ 8⋅b + 1      ⎢⎢2        2     ⎥⎥⎟  ⎜╲╱ 8⋅b + 1    1     ⎢⎢     2     \n",
       "⎢⎜─ - ───────────, 1, ⎢⎢───────────────⎥⎥⎟, ⎜─────────── + ─, 1, ⎢⎢───────────\n",
       "⎢⎜2        2          ⎢⎢       b       ⎥⎥⎟  ⎜     2        2     ⎢⎢       b   \n",
       "⎢⎜                    ⎢⎢               ⎥⎥⎟  ⎜                    ⎢⎢           \n",
       "⎣⎝                    ⎣⎣       1       ⎦⎦⎠  ⎝                    ⎣⎣       1   \n",
       "\n",
       "    ⎤⎤⎞⎤\n",
       "   1⎥⎥⎟⎥\n",
       " + ─⎥⎥⎟⎥\n",
       "   2⎥⎥⎟⎥\n",
       "────⎥⎥⎟⎥\n",
       "    ⎥⎥⎟⎥\n",
       "    ⎥⎥⎟⎥\n",
       "    ⎦⎦⎠⎦"
      ]
     },
     "execution_count": 10,
     "metadata": {},
     "output_type": "execute_result"
    }
   ],
   "source": [
    "J.eigenvects()"
   ]
  },
  {
   "cell_type": "code",
   "execution_count": 18,
   "metadata": {
    "collapsed": false
   },
   "outputs": [
    {
     "data": {
      "image/png": "[encoded data removed]",
      "text/latex": [
       "$\\displaystyle \\frac{1}{2} - \\frac{\\sqrt{8 b + 1}}{2}$"
      ],
      "text/plain": [
       "      _________\n",
       "1   ╲╱ 8⋅b + 1 \n",
       "─ - ───────────\n",
       "2        2     "
      ]
     },
     "execution_count": 18,
     "metadata": {},
     "output_type": "execute_result"
    }
   ],
   "source": [
    "J.eigenvects()[0][0] # The first eigenvalue"
   ]
  },
  {
   "cell_type": "code",
   "execution_count": 19,
   "metadata": {
    "collapsed": false
   },
   "outputs": [
    {
     "data": {
      "image/png": "[encoded data removed]",
      "text/latex": [
       "$\\displaystyle \\left[ \\left[\\begin{matrix}\\frac{\\frac{1}{2} - \\frac{\\sqrt{8 b + 1}}{2}}{b}\\\\1\\end{matrix}\\right]\\right]$"
      ],
      "text/plain": [
       "⎡⎡      _________⎤⎤\n",
       "⎢⎢1   ╲╱ 8⋅b + 1 ⎥⎥\n",
       "⎢⎢─ - ───────────⎥⎥\n",
       "⎢⎢2        2     ⎥⎥\n",
       "⎢⎢───────────────⎥⎥\n",
       "⎢⎢       b       ⎥⎥\n",
       "⎢⎢               ⎥⎥\n",
       "⎣⎣       1       ⎦⎦"
      ]
     },
     "execution_count": 19,
     "metadata": {},
     "output_type": "execute_result"
    }
   ],
   "source": [
    "J.eigenvects()[0][2] # The corresponding eigenvector"
   ]
  },
  {
   "cell_type": "code",
   "execution_count": null,
   "metadata": {},
   "outputs": [],
   "source": []
  }
 ],
 "metadata": {
  "kernelspec": {
   "display_name": "base",
   "language": "python",
   "name": "python3"
  },
  "language_info": {
   "codemirror_mode": {
    "name": "ipython",
    "version": 3
   },
   "file_extension": ".py",
   "mimetype": "text/x-python",
   "name": "python",
   "nbconvert_exporter": "python",
   "pygments_lexer": "ipython3",
   "version": "3.9.12"
  }
 },
 "nbformat": 4,
 "nbformat_minor": 0
}
